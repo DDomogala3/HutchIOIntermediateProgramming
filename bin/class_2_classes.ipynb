{
 "cells": [
  {
   "cell_type": "code",
   "execution_count": null,
   "metadata": {},
   "outputs": [],
   "source": []
  },
  {
   "cell_type": "markdown",
   "metadata": {
    "collapsed": true
   },
   "source": [
    "# Class 2: Class Anatomy\n",
    "At the core of OO programming is the conceit of classes. A class is essentially a collection of variables and functions from which many unique class instantiations can be made. \n",
    "\n"
   ]
  },
  {
   "cell_type": "code",
   "execution_count": 6,
   "metadata": {
    "collapsed": true
   },
   "outputs": [],
   "source": [
    "class my_class():\n",
    "    def __init__(self):\n",
    "        self.x = [1,2,3]\n",
    "        self.y = [\"a\", \"b\", \"c\"]\n",
    "    \n",
    "    def print_vars(self):\n",
    "        print(\"x: {}\\n y: {}\".format(self.x, self.y))\n",
    "        \n"
   ]
  },
  {
   "cell_type": "code",
   "execution_count": 8,
   "metadata": {},
   "outputs": [
    {
     "name": "stdout",
     "output_type": "stream",
     "text": [
      "default variables:\nx: [1, 2, 3]\n y: ['a', 'b', 'c']\nvariables after direct manipulation:\nx: 55\n y: direct variable interaction is icky\nvariables after reassigning to a new instance of my_class():\nx: [1, 2, 3]\n y: ['a', 'b', 'c']\n"
     ]
    }
   ],
   "source": [
    "first_class = my_class()\n",
    "print(\"default variables:\")\n",
    "first_class.print_vars()\n",
    "\n",
    "first_class.x = 55\n",
    "first_class.y = \"direct variable interaction is icky\"\n",
    "print(\"variables after direct manipulation:\")\n",
    "first_class.print_vars()\n",
    "\n",
    "first_class = my_class()\n",
    "print(\"variables after reassigning to a new instance of my_class():\")\n",
    "first_class.print_vars()"
   ]
  },
  {
   "cell_type": "code",
   "execution_count": null,
   "metadata": {},
   "outputs": [],
   "source": []
  }
 ],
 "metadata": {
  "kernelspec": {
   "display_name": "Python 3",
   "language": "python",
   "name": "python3"
  },
  "language_info": {
   "codemirror_mode": {
    "name": "ipython",
    "version": 3
   },
   "file_extension": ".py",
   "mimetype": "text/x-python",
   "name": "python",
   "nbconvert_exporter": "python",
   "pygments_lexer": "ipython3",
   "version": "3.6.0"
  }
 },
 "nbformat": 4,
 "nbformat_minor": 0
}
