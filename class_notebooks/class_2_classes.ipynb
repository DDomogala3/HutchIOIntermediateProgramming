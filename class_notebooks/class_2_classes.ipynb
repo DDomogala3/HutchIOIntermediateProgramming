{
 "cells": [
  {
   "cell_type": "markdown",
   "metadata": {
    "collapsed": true
   },
   "source": [
    "# Class 2: Class Anatomy\n",
    "At the core of OO programming is the conceit of classes. A class is essentially a collection of variables and functions from which many unique class instantiations can be made. \n",
    "\n"
   ]
  },
  {
   "cell_type": "markdown",
   "metadata": {},
   "source": [
    "Classes and Class Functions"
   ]
  },
  {
   "cell_type": "code",
   "execution_count": 13,
   "metadata": {
    "collapsed": true
   },
   "outputs": [],
   "source": [
    "class MyClass():\n",
    "    def hello_world(self):\n",
    "        print(\"Hello World!\")"
   ]
  },
  {
   "cell_type": "markdown",
   "metadata": {},
   "source": [
    "Class Instantiation and Invocation"
   ]
  },
  {
   "cell_type": "code",
   "execution_count": 15,
   "metadata": {
    "collapsed": false
   },
   "outputs": [
    {
     "name": "stdout",
     "output_type": "stream",
     "text": [
      "Hello World!\n"
     ]
    }
   ],
   "source": [
    "my_class = MyClass()\n",
    "my_class.hello_world()"
   ]
  },
  {
   "cell_type": "markdown",
   "metadata": {},
   "source": [
    "The __init__ class function and 'self'"
   ]
  },
  {
   "cell_type": "code",
   "execution_count": 16,
   "metadata": {
    "collapsed": true
   },
   "outputs": [],
   "source": [
    "class my_class():\n",
    "    def __init__(self):\n",
    "        self.x = [1,2,3]\n",
    "        self.y = [\"a\", \"b\", \"c\"]\n",
    "    \n",
    "    def print_vars(self):\n",
    "        print(\"x: {}\\n y: {}\".format(self.x, self.y))\n",
    "        \n"
   ]
  },
  {
   "cell_type": "code",
   "execution_count": 17,
   "metadata": {
    "collapsed": false
   },
   "outputs": [
    {
     "name": "stdout",
     "output_type": "stream",
     "text": [
      "default variables:\n",
      "x: [1, 2, 3]\n",
      " y: ['a', 'b', 'c']\n",
      "variables after direct manipulation:\n",
      "x: 55\n",
      " y: direct variable interaction is icky\n",
      "variables after reassigning to a new instance of my_class():\n",
      "x: [1, 2, 3]\n",
      " y: ['a', 'b', 'c']\n"
     ]
    }
   ],
   "source": [
    "first_class = my_class()\n",
    "print(\"default variables:\")\n",
    "first_class.print_vars()\n",
    "\n",
    "first_class.x = 55\n",
    "first_class.y = \"direct variable interaction is icky\"\n",
    "print(\"variables after direct manipulation:\")\n",
    "first_class.print_vars()\n",
    "\n",
    "first_class = my_class()\n",
    "print(\"variables after reassigning to a new instance of my_class():\")\n",
    "first_class.print_vars()"
   ]
  },
  {
   "cell_type": "markdown",
   "metadata": {},
   "source": [
    "Python uses Duck Typing: If it looks like a duck, and acts like a duck...\n",
    "    "
   ]
  },
  {
   "cell_type": "code",
   "execution_count": 4,
   "metadata": {
    "collapsed": false
   },
   "outputs": [
    {
     "name": "stdout",
     "output_type": "stream",
     "text": [
      "It's a bird!\n",
      "It's a plane!\n"
     ]
    },
    {
     "ename": "AttributeError",
     "evalue": "'Batman' object has no attribute 'fly'",
     "output_type": "error",
     "traceback": [
      "\u001b[0;31m---------------------------------------------------------------------------\u001b[0m",
      "\u001b[0;31mAttributeError\u001b[0m                            Traceback (most recent call last)",
      "\u001b[0;32m<ipython-input-4-b9b8e58feecd>\u001b[0m in \u001b[0;36m<module>\u001b[0;34m()\u001b[0m\n\u001b[1;32m     20\u001b[0m \u001b[0mwhat_is_it\u001b[0m\u001b[1;33m(\u001b[0m\u001b[0mbird\u001b[0m\u001b[1;33m)\u001b[0m\u001b[1;33m\u001b[0m\u001b[0m\n\u001b[1;32m     21\u001b[0m \u001b[0mwhat_is_it\u001b[0m\u001b[1;33m(\u001b[0m\u001b[0mplane\u001b[0m\u001b[1;33m)\u001b[0m\u001b[1;33m\u001b[0m\u001b[0m\n\u001b[0;32m---> 22\u001b[0;31m \u001b[0mwhat_is_it\u001b[0m\u001b[1;33m(\u001b[0m\u001b[0mbatman\u001b[0m\u001b[1;33m)\u001b[0m\u001b[1;33m\u001b[0m\u001b[0m\n\u001b[0m",
      "\u001b[0;32m<ipython-input-4-b9b8e58feecd>\u001b[0m in \u001b[0;36mwhat_is_it\u001b[0;34m(it)\u001b[0m\n\u001b[1;32m     12\u001b[0m \u001b[1;33m\u001b[0m\u001b[0m\n\u001b[1;32m     13\u001b[0m \u001b[1;32mdef\u001b[0m \u001b[0mwhat_is_it\u001b[0m\u001b[1;33m(\u001b[0m\u001b[0mit\u001b[0m\u001b[1;33m)\u001b[0m\u001b[1;33m:\u001b[0m\u001b[1;33m\u001b[0m\u001b[0m\n\u001b[0;32m---> 14\u001b[0;31m     \u001b[1;32mreturn\u001b[0m \u001b[0mit\u001b[0m\u001b[1;33m.\u001b[0m\u001b[0mfly\u001b[0m\u001b[1;33m(\u001b[0m\u001b[1;33m)\u001b[0m\u001b[1;33m\u001b[0m\u001b[0m\n\u001b[0m\u001b[1;32m     15\u001b[0m \u001b[1;33m\u001b[0m\u001b[0m\n\u001b[1;32m     16\u001b[0m \u001b[0mbird\u001b[0m \u001b[1;33m=\u001b[0m \u001b[0mBird\u001b[0m\u001b[1;33m(\u001b[0m\u001b[1;33m)\u001b[0m\u001b[1;33m\u001b[0m\u001b[0m\n",
      "\u001b[0;31mAttributeError\u001b[0m: 'Batman' object has no attribute 'fly'"
     ]
    }
   ],
   "source": [
    "class Bird:\n",
    "    def fly(self):\n",
    "        print(\"It's a bird!\")\n",
    "        \n",
    "class Plane:\n",
    "    def fly(self):\n",
    "        print(\"It's a plane!\")\n",
    "\n",
    "class Batman:\n",
    "    def nanana(self):\n",
    "        print(\"Batman!\")\n",
    "\n",
    "def what_is_it(it):\n",
    "    return it.fly()\n",
    "\n",
    "bird = Bird()\n",
    "plane = Plane()\n",
    "batman = Batman()\n",
    "\n",
    "what_is_it(bird)\n",
    "what_is_it(plane)\n",
    "what_is_it(batman)"
   ]
  },
  {
   "cell_type": "code",
   "execution_count": null,
   "metadata": {
    "collapsed": true
   },
   "outputs": [],
   "source": []
  }
 ],
 "metadata": {
  "kernelspec": {
   "display_name": "Python 3",
   "language": "python",
   "name": "python3"
  },
  "language_info": {
   "codemirror_mode": {
    "name": "ipython",
    "version": 3
   },
   "file_extension": ".py",
   "mimetype": "text/x-python",
   "name": "python",
   "nbconvert_exporter": "python",
   "pygments_lexer": "ipython3",
   "version": "3.6.0"
  }
 },
 "nbformat": 4,
 "nbformat_minor": 0
}
